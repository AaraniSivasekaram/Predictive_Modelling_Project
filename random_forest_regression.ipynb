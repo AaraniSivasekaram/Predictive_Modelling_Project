{
 "cells": [
  {
   "cell_type": "code",
   "execution_count": 1,
   "metadata": {},
   "outputs": [],
   "source": [
    "# Import our dependencies\n",
    "import pandas as pd\n",
    "import numpy as np\n",
    "from sklearn.model_selection import train_test_split\n",
    "from sklearn.metrics import mean_absolute_error, mean_squared_error, r2_score, explained_variance_score"
   ]
  },
  {
   "cell_type": "code",
   "execution_count": 2,
   "metadata": {
    "scrolled": true
   },
   "outputs": [
    {
     "data": {
      "text/html": [
       "<div>\n",
       "<style scoped>\n",
       "    .dataframe tbody tr th:only-of-type {\n",
       "        vertical-align: middle;\n",
       "    }\n",
       "\n",
       "    .dataframe tbody tr th {\n",
       "        vertical-align: top;\n",
       "    }\n",
       "\n",
       "    .dataframe thead th {\n",
       "        text-align: right;\n",
       "    }\n",
       "</style>\n",
       "<table border=\"1\" class=\"dataframe\">\n",
       "  <thead>\n",
       "    <tr style=\"text-align: right;\">\n",
       "      <th></th>\n",
       "      <th>percent_hispanic</th>\n",
       "      <th>percent_non_hispanic_american_indianalaska_native</th>\n",
       "      <th>percent_non_hispanic_asian</th>\n",
       "      <th>percent_non_hispanic_black</th>\n",
       "      <th>percent_non_hispanic_native_hawaiianpacific_islander</th>\n",
       "      <th>percent_non_hispanic_white</th>\n",
       "      <th>social_vulnerability_index</th>\n",
       "      <th>cvac_level_of_concern_for_vaccination_rollout</th>\n",
       "      <th>estimated_hesitant</th>\n",
       "    </tr>\n",
       "  </thead>\n",
       "  <tbody>\n",
       "    <tr>\n",
       "      <th>0</th>\n",
       "      <td>0.0053</td>\n",
       "      <td>0.0009</td>\n",
       "      <td>0.0003</td>\n",
       "      <td>0.6938</td>\n",
       "      <td>0.0000</td>\n",
       "      <td>0.2684</td>\n",
       "      <td>0.93</td>\n",
       "      <td>0.94</td>\n",
       "      <td>0.23</td>\n",
       "    </tr>\n",
       "    <tr>\n",
       "      <th>1</th>\n",
       "      <td>0.0146</td>\n",
       "      <td>0.0731</td>\n",
       "      <td>0.0025</td>\n",
       "      <td>0.2354</td>\n",
       "      <td>0.0000</td>\n",
       "      <td>0.6495</td>\n",
       "      <td>0.73</td>\n",
       "      <td>0.82</td>\n",
       "      <td>0.23</td>\n",
       "    </tr>\n",
       "    <tr>\n",
       "      <th>2</th>\n",
       "      <td>0.0315</td>\n",
       "      <td>0.0034</td>\n",
       "      <td>0.0016</td>\n",
       "      <td>0.0073</td>\n",
       "      <td>0.0005</td>\n",
       "      <td>0.9370</td>\n",
       "      <td>0.70</td>\n",
       "      <td>0.80</td>\n",
       "      <td>0.22</td>\n",
       "    </tr>\n",
       "    <tr>\n",
       "      <th>3</th>\n",
       "      <td>0.0249</td>\n",
       "      <td>0.0015</td>\n",
       "      <td>0.0049</td>\n",
       "      <td>0.0617</td>\n",
       "      <td>0.0000</td>\n",
       "      <td>0.8895</td>\n",
       "      <td>0.75</td>\n",
       "      <td>0.68</td>\n",
       "      <td>0.23</td>\n",
       "    </tr>\n",
       "    <tr>\n",
       "      <th>4</th>\n",
       "      <td>0.0901</td>\n",
       "      <td>0.4588</td>\n",
       "      <td>0.1968</td>\n",
       "      <td>0.0322</td>\n",
       "      <td>0.0100</td>\n",
       "      <td>0.1321</td>\n",
       "      <td>0.58</td>\n",
       "      <td>0.87</td>\n",
       "      <td>0.26</td>\n",
       "    </tr>\n",
       "  </tbody>\n",
       "</table>\n",
       "</div>"
      ],
      "text/plain": [
       "   percent_hispanic  percent_non_hispanic_american_indianalaska_native  \\\n",
       "0            0.0053                                             0.0009   \n",
       "1            0.0146                                             0.0731   \n",
       "2            0.0315                                             0.0034   \n",
       "3            0.0249                                             0.0015   \n",
       "4            0.0901                                             0.4588   \n",
       "\n",
       "   percent_non_hispanic_asian  percent_non_hispanic_black  \\\n",
       "0                      0.0003                      0.6938   \n",
       "1                      0.0025                      0.2354   \n",
       "2                      0.0016                      0.0073   \n",
       "3                      0.0049                      0.0617   \n",
       "4                      0.1968                      0.0322   \n",
       "\n",
       "   percent_non_hispanic_native_hawaiianpacific_islander  \\\n",
       "0                                             0.0000      \n",
       "1                                             0.0000      \n",
       "2                                             0.0005      \n",
       "3                                             0.0000      \n",
       "4                                             0.0100      \n",
       "\n",
       "   percent_non_hispanic_white  social_vulnerability_index  \\\n",
       "0                      0.2684                        0.93   \n",
       "1                      0.6495                        0.73   \n",
       "2                      0.9370                        0.70   \n",
       "3                      0.8895                        0.75   \n",
       "4                      0.1321                        0.58   \n",
       "\n",
       "   cvac_level_of_concern_for_vaccination_rollout  estimated_hesitant  \n",
       "0                                           0.94                0.23  \n",
       "1                                           0.82                0.23  \n",
       "2                                           0.80                0.22  \n",
       "3                                           0.68                0.23  \n",
       "4                                           0.87                0.26  "
      ]
     },
     "execution_count": 2,
     "metadata": {},
     "output_type": "execute_result"
    }
   ],
   "source": [
    "# Load dataset into a DataFrame\n",
    "file_path = 'Resources/vaccine_hesitancy_clean.csv'\n",
    "Vaccine_Hesitancy_df = pd.read_csv(file_path)\n",
    "Vaccine_Hesitancy_df.head()"
   ]
  },
  {
   "cell_type": "code",
   "execution_count": 3,
   "metadata": {},
   "outputs": [],
   "source": [
    "# Separate features(X) from target(y)\n",
    "y = Vaccine_Hesitancy_df[\"estimated_hesitant\"]\n",
    "X = Vaccine_Hesitancy_df.drop(['estimated_hesitant'], axis = 1)"
   ]
  },
  {
   "cell_type": "code",
   "execution_count": 4,
   "metadata": {
    "scrolled": true
   },
   "outputs": [
    {
     "data": {
      "text/html": [
       "<div>\n",
       "<style scoped>\n",
       "    .dataframe tbody tr th:only-of-type {\n",
       "        vertical-align: middle;\n",
       "    }\n",
       "\n",
       "    .dataframe tbody tr th {\n",
       "        vertical-align: top;\n",
       "    }\n",
       "\n",
       "    .dataframe thead th {\n",
       "        text-align: right;\n",
       "    }\n",
       "</style>\n",
       "<table border=\"1\" class=\"dataframe\">\n",
       "  <thead>\n",
       "    <tr style=\"text-align: right;\">\n",
       "      <th></th>\n",
       "      <th>percent_hispanic</th>\n",
       "      <th>percent_non_hispanic_american_indianalaska_native</th>\n",
       "      <th>percent_non_hispanic_asian</th>\n",
       "      <th>percent_non_hispanic_black</th>\n",
       "      <th>percent_non_hispanic_native_hawaiianpacific_islander</th>\n",
       "      <th>percent_non_hispanic_white</th>\n",
       "      <th>social_vulnerability_index</th>\n",
       "      <th>cvac_level_of_concern_for_vaccination_rollout</th>\n",
       "    </tr>\n",
       "  </thead>\n",
       "  <tbody>\n",
       "    <tr>\n",
       "      <th>0</th>\n",
       "      <td>0.0053</td>\n",
       "      <td>0.0009</td>\n",
       "      <td>0.0003</td>\n",
       "      <td>0.6938</td>\n",
       "      <td>0.0000</td>\n",
       "      <td>0.2684</td>\n",
       "      <td>0.93</td>\n",
       "      <td>0.94</td>\n",
       "    </tr>\n",
       "    <tr>\n",
       "      <th>1</th>\n",
       "      <td>0.0146</td>\n",
       "      <td>0.0731</td>\n",
       "      <td>0.0025</td>\n",
       "      <td>0.2354</td>\n",
       "      <td>0.0000</td>\n",
       "      <td>0.6495</td>\n",
       "      <td>0.73</td>\n",
       "      <td>0.82</td>\n",
       "    </tr>\n",
       "    <tr>\n",
       "      <th>2</th>\n",
       "      <td>0.0315</td>\n",
       "      <td>0.0034</td>\n",
       "      <td>0.0016</td>\n",
       "      <td>0.0073</td>\n",
       "      <td>0.0005</td>\n",
       "      <td>0.9370</td>\n",
       "      <td>0.70</td>\n",
       "      <td>0.80</td>\n",
       "    </tr>\n",
       "    <tr>\n",
       "      <th>3</th>\n",
       "      <td>0.0249</td>\n",
       "      <td>0.0015</td>\n",
       "      <td>0.0049</td>\n",
       "      <td>0.0617</td>\n",
       "      <td>0.0000</td>\n",
       "      <td>0.8895</td>\n",
       "      <td>0.75</td>\n",
       "      <td>0.68</td>\n",
       "    </tr>\n",
       "    <tr>\n",
       "      <th>4</th>\n",
       "      <td>0.0901</td>\n",
       "      <td>0.4588</td>\n",
       "      <td>0.1968</td>\n",
       "      <td>0.0322</td>\n",
       "      <td>0.0100</td>\n",
       "      <td>0.1321</td>\n",
       "      <td>0.58</td>\n",
       "      <td>0.87</td>\n",
       "    </tr>\n",
       "  </tbody>\n",
       "</table>\n",
       "</div>"
      ],
      "text/plain": [
       "   percent_hispanic  percent_non_hispanic_american_indianalaska_native  \\\n",
       "0            0.0053                                             0.0009   \n",
       "1            0.0146                                             0.0731   \n",
       "2            0.0315                                             0.0034   \n",
       "3            0.0249                                             0.0015   \n",
       "4            0.0901                                             0.4588   \n",
       "\n",
       "   percent_non_hispanic_asian  percent_non_hispanic_black  \\\n",
       "0                      0.0003                      0.6938   \n",
       "1                      0.0025                      0.2354   \n",
       "2                      0.0016                      0.0073   \n",
       "3                      0.0049                      0.0617   \n",
       "4                      0.1968                      0.0322   \n",
       "\n",
       "   percent_non_hispanic_native_hawaiianpacific_islander  \\\n",
       "0                                             0.0000      \n",
       "1                                             0.0000      \n",
       "2                                             0.0005      \n",
       "3                                             0.0000      \n",
       "4                                             0.0100      \n",
       "\n",
       "   percent_non_hispanic_white  social_vulnerability_index  \\\n",
       "0                      0.2684                        0.93   \n",
       "1                      0.6495                        0.73   \n",
       "2                      0.9370                        0.70   \n",
       "3                      0.8895                        0.75   \n",
       "4                      0.1321                        0.58   \n",
       "\n",
       "   cvac_level_of_concern_for_vaccination_rollout  \n",
       "0                                           0.94  \n",
       "1                                           0.82  \n",
       "2                                           0.80  \n",
       "3                                           0.68  \n",
       "4                                           0.87  "
      ]
     },
     "execution_count": 4,
     "metadata": {},
     "output_type": "execute_result"
    }
   ],
   "source": [
    "# Confirm the target column has been dropped \n",
    "X.head()"
   ]
  },
  {
   "cell_type": "markdown",
   "metadata": {},
   "source": [
    "Random Forest Regression"
   ]
  },
  {
   "cell_type": "code",
   "execution_count": 5,
   "metadata": {},
   "outputs": [],
   "source": [
    "# Import dependencies\n",
    "from sklearn.ensemble import RandomForestRegressor\n",
    "random_forest = RandomForestRegressor(random_state = 42) "
   ]
  },
  {
   "cell_type": "code",
   "execution_count": 6,
   "metadata": {},
   "outputs": [],
   "source": [
    "# Train the model with 70% of data and Test with remaining 30% data \n",
    "X_train, X_test, y_train, y_test = train_test_split(X, y, test_size=0.3, random_state = 42)"
   ]
  },
  {
   "cell_type": "code",
   "execution_count": 7,
   "metadata": {},
   "outputs": [],
   "source": [
    "# Fit the model \n",
    "random_forest.fit(X_train, y_train)\n",
    "y_pred = random_forest.predict(X_test)"
   ]
  },
  {
   "cell_type": "code",
   "execution_count": 8,
   "metadata": {},
   "outputs": [
    {
     "data": {
      "image/png": "[encoded data removed]",
      "text/plain": [
       "<Figure size 432x288 with 1 Axes>"
      ]
     },
     "metadata": {
      "needs_background": "light"
     },
     "output_type": "display_data"
    }
   ],
   "source": [
    "# Plot the training and testing data \n",
    "import matplotlib.pyplot as plt\n",
    "plt.scatter(random_forest.predict(X_train), random_forest.predict(X_train) - y_train, c=\"royalblue\", label=\"Training Data\")\n",
    "plt.scatter(random_forest.predict(X_test), random_forest.predict(X_test) - y_test, c=\"pink\", label=\"Testing Data\")\n",
    "plt.legend()\n",
    "plt.hlines(y=0, xmin=y.min(), xmax=y.max(), colors=\"red\")\n",
    "plt.title(\"Residual Plot\")\n",
    "plt.show()"
   ]
  },
  {
   "cell_type": "code",
   "execution_count": 9,
   "metadata": {
    "scrolled": true
   },
   "outputs": [
    {
     "data": {
      "image/png": "[encoded data removed]",
      "text/plain": [
       "<Figure size 432x288 with 1 Axes>"
      ]
     },
     "metadata": {
      "needs_background": "light"
     },
     "output_type": "display_data"
    }
   ],
   "source": [
    "# Visualize model predictions for one feature\n",
    "plt.scatter(X_test[\"social_vulnerability_index\"].values, y_test, color = 'royalblue')\n",
    "plt.scatter(X_test[\"social_vulnerability_index\"].values, y_pred, color = 'pink')\n",
    "plt.title('SVI vs. Estimated Vaccine Hesitancy')\n",
    "plt.xlabel('social_vulnerability_index')\n",
    "plt.ylabel('Estimated Hesitancy')\n",
    "plt.show() "
   ]
  },
  {
   "cell_type": "code",
   "execution_count": 10,
   "metadata": {},
   "outputs": [
    {
     "name": "stdout",
     "output_type": "stream",
     "text": [
      "Mean Absolute Error:  0.025843266171792157\n",
      "Mean Squared Error:  0.001178815440084836\n",
      "R Squared Score:  0.4366239872338896\n",
      "Explained Variance Score:  0.43779166797622604\n"
     ]
    }
   ],
   "source": [
    "# Mean absolute error, mean squared error, r squared score, explained variance scor\n",
    "print('Mean Absolute Error: ', mean_absolute_error(y_test,y_pred))\n",
    "print(\"Mean Squared Error: \", mean_squared_error(y_test,y_pred))\n",
    "print(\"R Squared Score: \", r2_score(y_test,y_pred))\n",
    "print(\"Explained Variance Score: \", explained_variance_score(y_test,y_pred))"
   ]
  },
  {
   "cell_type": "code",
   "execution_count": 11,
   "metadata": {},
   "outputs": [],
   "source": [
    "# Export data for visualizations\n",
    "random_forest_regression_mlen = pd.DataFrame(X_test)\n",
    "random_forest_regression_mlen['actual_y'] = y_test\n",
    "random_forest_regression_mlen['predict_y']= y_pred\n",
    "random_forest_regression_mlen.to_csv('Resources/random_forest_regression_mlen.csv')"
   ]
  }
 ],
 "metadata": {
  "kernelspec": {
   "display_name": "PythonData",
   "language": "python",
   "name": "pythondata"
  },
  "language_info": {
   "codemirror_mode": {
    "name": "ipython",
    "version": 3
   },
   "file_extension": ".py",
   "mimetype": "text/x-python",
   "name": "python",
   "nbconvert_exporter": "python",
   "pygments_lexer": "ipython3",
   "version": "3.7.9"
  }
 },
 "nbformat": 4,
 "nbformat_minor": 4
}
